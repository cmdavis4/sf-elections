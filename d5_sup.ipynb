{
 "cells": [
  {
   "cell_type": "code",
   "execution_count": 1,
   "metadata": {
    "collapsed": true
   },
   "outputs": [],
   "source": [
    "import pandas as pd\n",
    "import numpy as np\n",
    "import arcpy\n",
    "import matplotlib.pyplot as plt\n",
    "%matplotlib inline\n",
    "from matplotlib.ticker import FuncFormatter"
   ]
  },
  {
   "cell_type": "code",
   "execution_count": 2,
   "metadata": {
    "collapsed": false
   },
   "outputs": [
    {
     "data": {
      "text/html": [
       "<div>\n",
       "<table border=\"1\" class=\"dataframe\">\n",
       "  <thead>\n",
       "    <tr style=\"text-align: right;\">\n",
       "      <th></th>\n",
       "      <th>precinctname</th>\n",
       "      <th>reportingtype</th>\n",
       "      <th>precinctid</th>\n",
       "      <th>precincts</th>\n",
       "      <th>registration</th>\n",
       "      <th>ballots_cast</th>\n",
       "      <th>turnout_percent</th>\n",
       "      <th>dean_preston</th>\n",
       "      <th>london_breed</th>\n",
       "      <th>writein</th>\n",
       "      <th>under_vote</th>\n",
       "      <th>over_vote</th>\n",
       "    </tr>\n",
       "  </thead>\n",
       "  <tbody>\n",
       "    <tr>\n",
       "      <th>0</th>\n",
       "      <td>Pct 7501</td>\n",
       "      <td>Election Day</td>\n",
       "      <td>7501</td>\n",
       "      <td>1</td>\n",
       "      <td>574</td>\n",
       "      <td>201</td>\n",
       "      <td>35.02</td>\n",
       "      <td>54</td>\n",
       "      <td>109</td>\n",
       "      <td>1</td>\n",
       "      <td>32</td>\n",
       "      <td>0</td>\n",
       "    </tr>\n",
       "    <tr>\n",
       "      <th>1</th>\n",
       "      <td>Pct 7501</td>\n",
       "      <td>VBM</td>\n",
       "      <td>7501</td>\n",
       "      <td>1</td>\n",
       "      <td>574</td>\n",
       "      <td>321</td>\n",
       "      <td>55.92</td>\n",
       "      <td>89</td>\n",
       "      <td>157</td>\n",
       "      <td>1</td>\n",
       "      <td>55</td>\n",
       "      <td>0</td>\n",
       "    </tr>\n",
       "    <tr>\n",
       "      <th>2</th>\n",
       "      <td>Pct 7502</td>\n",
       "      <td>Election Day</td>\n",
       "      <td>7502</td>\n",
       "      <td>1</td>\n",
       "      <td>808</td>\n",
       "      <td>240</td>\n",
       "      <td>29.70</td>\n",
       "      <td>94</td>\n",
       "      <td>92</td>\n",
       "      <td>1</td>\n",
       "      <td>49</td>\n",
       "      <td>0</td>\n",
       "    </tr>\n",
       "    <tr>\n",
       "      <th>3</th>\n",
       "      <td>Pct 7502</td>\n",
       "      <td>VBM</td>\n",
       "      <td>7502</td>\n",
       "      <td>1</td>\n",
       "      <td>808</td>\n",
       "      <td>454</td>\n",
       "      <td>56.19</td>\n",
       "      <td>148</td>\n",
       "      <td>233</td>\n",
       "      <td>3</td>\n",
       "      <td>53</td>\n",
       "      <td>2</td>\n",
       "    </tr>\n",
       "    <tr>\n",
       "      <th>4</th>\n",
       "      <td>Pct 7503</td>\n",
       "      <td>Election Day</td>\n",
       "      <td>7503</td>\n",
       "      <td>1</td>\n",
       "      <td>808</td>\n",
       "      <td>252</td>\n",
       "      <td>31.19</td>\n",
       "      <td>110</td>\n",
       "      <td>89</td>\n",
       "      <td>0</td>\n",
       "      <td>44</td>\n",
       "      <td>1</td>\n",
       "    </tr>\n",
       "  </tbody>\n",
       "</table>\n",
       "</div>"
      ],
      "text/plain": [
       "  precinctname reportingtype  precinctid  precincts  registration  \\\n",
       "0     Pct 7501  Election Day        7501          1           574   \n",
       "1     Pct 7501           VBM        7501          1           574   \n",
       "2     Pct 7502  Election Day        7502          1           808   \n",
       "3     Pct 7502           VBM        7502          1           808   \n",
       "4     Pct 7503  Election Day        7503          1           808   \n",
       "\n",
       "   ballots_cast  turnout_percent  dean_preston  london_breed  writein  \\\n",
       "0           201            35.02            54           109        1   \n",
       "1           321            55.92            89           157        1   \n",
       "2           240            29.70            94            92        1   \n",
       "3           454            56.19           148           233        3   \n",
       "4           252            31.19           110            89        0   \n",
       "\n",
       "   under_vote  over_vote  \n",
       "0          32          0  \n",
       "1          55          0  \n",
       "2          49          0  \n",
       "3          53          2  \n",
       "4          44          1  "
      ]
     },
     "execution_count": 2,
     "metadata": {},
     "output_type": "execute_result"
    }
   ],
   "source": [
    "source_df = pd.read_csv('../derived_data/150 - Board of Supervisors, District 5.txt')\n",
    "source_df.head()"
   ]
  },
  {
   "cell_type": "code",
   "execution_count": 3,
   "metadata": {
    "collapsed": false
   },
   "outputs": [],
   "source": [
    "d5_df = source_df.groupby('precinctid').agg({\n",
    "        'registration': 'min',\n",
    "        'ballots_cast': 'sum',\n",
    "        'dean_preston': 'sum',\n",
    "        'london_breed': 'sum',\n",
    "        'writein': 'sum',\n",
    "        'under_vote': 'sum',\n",
    "        'over_vote': 'sum'\n",
    "    })\n",
    "d5_df['dean_percent_sup_votes'] = d5_df['dean_preston'] / (d5_df['dean_preston'] + d5_df['london_breed'] + d5_df['writein'])\n",
    "d5_df['dean_percent_ballots'] = d5_df['dean_preston'] / d5_df['ballots_cast']"
   ]
  },
  {
   "cell_type": "code",
   "execution_count": 4,
   "metadata": {
    "collapsed": false
   },
   "outputs": [
    {
     "data": {
      "text/plain": [
       "(array([ 1.,  0.,  0.,  0.,  1.,  2.,  1.,  3.,  4.,  6.,  5.,  4.,  9.,\n",
       "         9.,  4.,  8.,  4.,  3.,  1.,  2.]),\n",
       " array([ 0.26572008,  0.2824092 ,  0.29909832,  0.31578744,  0.33247656,\n",
       "         0.34916568,  0.3658548 ,  0.38254392,  0.39923304,  0.41592216,\n",
       "         0.43261128,  0.4493004 ,  0.46598952,  0.48267865,  0.49936777,\n",
       "         0.51605689,  0.53274601,  0.54943513,  0.56612425,  0.58281337,\n",
       "         0.59950249]),\n",
       " <a list of 20 Patch objects>)"
      ]
     },
     "execution_count": 4,
     "metadata": {},
     "output_type": "execute_result"
    },
    {
     "data": {
      "image/png": "[encoded data removed]",
      "text/plain": [
       "<matplotlib.figure.Figure at 0x12e788b0>"
      ]
     },
     "metadata": {},
     "output_type": "display_data"
    }
   ],
   "source": [
    "plt.hist(d5_df['dean_percent_sup_votes'], bins=20)"
   ]
  },
  {
   "cell_type": "code",
   "execution_count": 5,
   "metadata": {
    "collapsed": false
   },
   "outputs": [
    {
     "data": {
      "text/plain": [
       "(0.9826851487159729, 0.47561129927635193)"
      ]
     },
     "execution_count": 5,
     "metadata": {},
     "output_type": "execute_result"
    }
   ],
   "source": [
    "from scipy.stats import shapiro\n",
    "shapiro(d5_df['dean_percent_sup_votes'])"
   ]
  },
  {
   "cell_type": "code",
   "execution_count": 6,
   "metadata": {
    "collapsed": false
   },
   "outputs": [
    {
     "name": "stdout",
     "output_type": "stream",
     "text": [
      "0.470975042118\n",
      "0.0628676024744\n"
     ]
    }
   ],
   "source": [
    "# That p value's way high, so we can assume normality.\n",
    "print(np.mean(d5_df['dean_percent_sup_votes']))\n",
    "print(np.std(d5_df['dean_percent_sup_votes']))"
   ]
  },
  {
   "cell_type": "markdown",
   "metadata": {},
   "source": [
    "### Let's see what other measure Dean's vote proportion best correlates with.."
   ]
  },
  {
   "cell_type": "code",
   "execution_count": 7,
   "metadata": {
    "collapsed": false,
    "scrolled": true
   },
   "outputs": [],
   "source": [
    "import os\n",
    "from scipy.stats import linregress\n",
    "vote_files = [x for x in os.listdir('../derived_data') if x[3:6] == ' - ']\n",
    "results_dict = {}\n",
    "excluded = []\n",
    "for f in vote_files:\n",
    "    df = pd.read_csv('../derived_data/{}'.format(f))\n",
    "    metric_name = df.columns[7]  # The first 6 columns are uniform across all tables\n",
    "    grouped = df.groupby('precinctid').agg('sum')\n",
    "    grouped['metric_percent_ballots'] = grouped[metric_name] / grouped['ballots_cast']\n",
    "    merged = d5_df.merge(grouped, left_index=True, right_index=True)\n",
    "    if merged.empty:\n",
    "        excluded.append(f)\n",
    "        continue\n",
    "    # Filter to only D5\n",
    "    merged = merged[~merged['dean_percent_ballots'].isnull()]\n",
    "    slope, intercept, r_value, p_value, std_err = linregress(merged['metric_percent_ballots'].values,\n",
    "                                                             merged['dean_percent_ballots'].values)\n",
    "    results_dict[f] = {\n",
    "        'metric_name': metric_name,\n",
    "        'slope': slope,\n",
    "        'intercept': intercept,\n",
    "        'rsquared': r_value**2,\n",
    "        'dataframe': merged\n",
    "    }"
   ]
  },
  {
   "cell_type": "raw",
   "metadata": {},
   "source": [
    "excluded"
   ]
  },
  {
   "cell_type": "markdown",
   "metadata": {
    "collapsed": false
   },
   "source": [
    "num_props = 5\n",
    "fig, axs = plt.subplots(num_props,1, figsize=(5,15))\n",
    "counter = 0\n",
    "for name, metadata in sorted(results_dict.items(), key=lambda x: x[1]['rsquared'], reverse=True)[1:num_props+1]:\n",
    "    ax = axs[counter]\n",
    "    x = metadata['dataframe']['metric_percent_ballots'].values\n",
    "    y = metadata['dataframe']['dean_percent_ballots'].values\n",
    "    ax.scatter(x, y)\n",
    "    ax.plot(x, x*metadata['slope'] + metadata['intercept'])\n",
    "    ax.set_title(name[:-4])\n",
    "    ax.set_ylabel('% Vote for Dean')\n",
    "    ax.set_xlabel('% Vote {}'.format(metadata['metric_name'].title()))\n",
    "    ax.xaxis.set_major_formatter(FuncFormatter(lambda x, _: '{:.0%}'.format(x))) \n",
    "    ax.yaxis.set_major_formatter(FuncFormatter(lambda y, _: '{:.0%}'.format(y))) \n",
    "    annotation = '''m={}\\nb={}\\nr^2={}'''.format(metadata['slope'], metadata['intercept'], metadata['rsquared'])\n",
    "    ax.annotate(annotation, xy=(1.05, .8), xycoords='axes fraction')\n",
    "    counter += 1\n",
    "fig.tight_layout()"
   ]
  },
  {
   "cell_type": "markdown",
   "metadata": {},
   "source": [
    "Lol, so how you voted on mandatory condoms in porn was the strongest predictor of if you would vote for dean..."
   ]
  },
  {
   "cell_type": "code",
   "execution_count": 9,
   "metadata": {
    "collapsed": false
   },
   "outputs": [
    {
     "ename": "NameError",
     "evalue": "name 'measures_dict' is not defined",
     "output_type": "error",
     "traceback": [
      "\u001b[0;31m\u001b[0m",
      "\u001b[0;31mNameError\u001b[0mTraceback (most recent call last)",
      "\u001b[0;32m<ipython-input-9-0340537d5c42>\u001b[0m in \u001b[0;36m<module>\u001b[0;34m()\u001b[0m\n\u001b[0;32m----> 1\u001b[0;31m \u001b[0mmeasures_dict\u001b[0m\u001b[1;33m[\u001b[0m\u001b[1;34m'240 - State Proposition 60.txt'\u001b[0m\u001b[1;33m]\u001b[0m\u001b[1;33m.\u001b[0m\u001b[0msort_values\u001b[0m\u001b[1;33m(\u001b[0m\u001b[1;34m'metric_percent_ballots'\u001b[0m\u001b[1;33m,\u001b[0m \u001b[0mascending\u001b[0m\u001b[1;33m=\u001b[0m\u001b[0mFalse\u001b[0m\u001b[1;33m)\u001b[0m\u001b[1;33m\u001b[0m\u001b[0m\n\u001b[0m",
      "\u001b[0;31mNameError\u001b[0m: name 'measures_dict' is not defined"
     ]
    }
   ],
   "source": [
    "measures_dict['240 - State Proposition 60.txt'].sort_values('metric_percent_ballots', ascending=False)"
   ]
  },
  {
   "cell_type": "code",
   "execution_count": null,
   "metadata": {
    "collapsed": true
   },
   "outputs": [],
   "source": []
  }
 ],
 "metadata": {
  "anaconda-cloud": {},
  "kernelspec": {
   "display_name": "Python [conda root]",
   "language": "python",
   "name": "conda-root-py"
  },
  "language_info": {
   "codemirror_mode": {
    "name": "ipython",
    "version": 2
   },
   "file_extension": ".py",
   "mimetype": "text/x-python",
   "name": "python",
   "nbconvert_exporter": "python",
   "pygments_lexer": "ipython2",
   "version": "2.7.12"
  }
 },
 "nbformat": 4,
 "nbformat_minor": 1
}
