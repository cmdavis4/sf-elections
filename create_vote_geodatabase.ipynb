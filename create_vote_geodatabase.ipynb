{
 "cells": [
  {
   "cell_type": "code",
   "execution_count": 1,
   "metadata": {
    "collapsed": false
   },
   "outputs": [],
   "source": [
    "import pandas as pd\n",
    "import numpy as np\n",
    "import arcpy\n",
    "\n",
    "arcpy.env.workspace = 'C:\\Users\\Charles\\Documents\\ArcGIS\\san_francisco'\n",
    "\n",
    "OVERWRITE = True"
   ]
  },
  {
   "cell_type": "markdown",
   "metadata": {},
   "source": [
    "### Split the Excel file into CSVs"
   ]
  },
  {
   "cell_type": "code",
   "execution_count": 2,
   "metadata": {
    "collapsed": true
   },
   "outputs": [],
   "source": [
    "dfs = pd.read_excel('20161206_vote_all_districts.xlsx', sheetname=None, header=3)"
   ]
  },
  {
   "cell_type": "code",
   "execution_count": 3,
   "metadata": {
    "collapsed": false
   },
   "outputs": [
    {
     "data": {
      "text/html": [
       "<div>\n",
       "<table border=\"1\" class=\"dataframe\">\n",
       "  <thead>\n",
       "    <tr style=\"text-align: right;\">\n",
       "      <th></th>\n",
       "      <th>PrecinctName</th>\n",
       "      <th>ReportingType</th>\n",
       "      <th>PrecinctID</th>\n",
       "      <th>Precincts</th>\n",
       "      <th>Registration</th>\n",
       "      <th>Ballots Cast</th>\n",
       "      <th>Turnout (%)</th>\n",
       "      <th>Yes</th>\n",
       "      <th>No</th>\n",
       "      <th>Under Vote</th>\n",
       "      <th>Over Vote</th>\n",
       "    </tr>\n",
       "  </thead>\n",
       "  <tbody>\n",
       "    <tr>\n",
       "      <th>0</th>\n",
       "      <td>Pct 1101</td>\n",
       "      <td>Election Day</td>\n",
       "      <td>1101</td>\n",
       "      <td>1</td>\n",
       "      <td>586</td>\n",
       "      <td>159</td>\n",
       "      <td>27.13</td>\n",
       "      <td>54</td>\n",
       "      <td>96</td>\n",
       "      <td>9</td>\n",
       "      <td>0</td>\n",
       "    </tr>\n",
       "    <tr>\n",
       "      <th>1</th>\n",
       "      <td>Pct 1101</td>\n",
       "      <td>VBM</td>\n",
       "      <td>1101</td>\n",
       "      <td>1</td>\n",
       "      <td>586</td>\n",
       "      <td>287</td>\n",
       "      <td>48.98</td>\n",
       "      <td>107</td>\n",
       "      <td>163</td>\n",
       "      <td>13</td>\n",
       "      <td>0</td>\n",
       "    </tr>\n",
       "    <tr>\n",
       "      <th>2</th>\n",
       "      <td>Pct 1102</td>\n",
       "      <td>Election Day</td>\n",
       "      <td>1102</td>\n",
       "      <td>1</td>\n",
       "      <td>996</td>\n",
       "      <td>291</td>\n",
       "      <td>29.22</td>\n",
       "      <td>102</td>\n",
       "      <td>172</td>\n",
       "      <td>16</td>\n",
       "      <td>0</td>\n",
       "    </tr>\n",
       "    <tr>\n",
       "      <th>3</th>\n",
       "      <td>Pct 1102</td>\n",
       "      <td>VBM</td>\n",
       "      <td>1102</td>\n",
       "      <td>1</td>\n",
       "      <td>996</td>\n",
       "      <td>519</td>\n",
       "      <td>52.11</td>\n",
       "      <td>201</td>\n",
       "      <td>290</td>\n",
       "      <td>26</td>\n",
       "      <td>0</td>\n",
       "    </tr>\n",
       "    <tr>\n",
       "      <th>4</th>\n",
       "      <td>Pct 1103</td>\n",
       "      <td>Election Day</td>\n",
       "      <td>1103</td>\n",
       "      <td>1</td>\n",
       "      <td>971</td>\n",
       "      <td>263</td>\n",
       "      <td>27.09</td>\n",
       "      <td>96</td>\n",
       "      <td>152</td>\n",
       "      <td>15</td>\n",
       "      <td>0</td>\n",
       "    </tr>\n",
       "  </tbody>\n",
       "</table>\n",
       "</div>"
      ],
      "text/plain": [
       "  PrecinctName ReportingType PrecinctID Precincts Registration Ballots Cast  \\\n",
       "0     Pct 1101  Election Day       1101         1          586          159   \n",
       "1     Pct 1101           VBM       1101         1          586          287   \n",
       "2     Pct 1102  Election Day       1102         1          996          291   \n",
       "3     Pct 1102           VBM       1102         1          996          519   \n",
       "4     Pct 1103  Election Day       1103         1          971          263   \n",
       "\n",
       "  Turnout (%)  Yes   No Under Vote Over Vote  \n",
       "0       27.13   54   96          9         0  \n",
       "1       48.98  107  163         13         0  \n",
       "2       29.22  102  172         16         0  \n",
       "3       52.11  201  290         26         0  \n",
       "4       27.09   96  152         15         0  "
      ]
     },
     "execution_count": 3,
     "metadata": {},
     "output_type": "execute_result"
    }
   ],
   "source": [
    "dfs.values()[0].head()"
   ]
  },
  {
   "cell_type": "code",
   "execution_count": 4,
   "metadata": {
    "collapsed": false,
    "scrolled": true
   },
   "outputs": [
    {
     "data": {
      "text/plain": [
       "[u'265 - State Proposition 65',\n",
       " u'215 - State Proposition 55',\n",
       " u'155 - Board of Supervisors, Dis',\n",
       " u'190 - BART Director, District 9',\n",
       " u'340 - Local Measure M',\n",
       " u'210 - State Proposition 54',\n",
       " u'180 - Member, Community College',\n",
       " u'225 - State Proposition 57',\n",
       " u'330 - Local Measure K',\n",
       " u'240 - State Proposition 60',\n",
       " u'280 - School Measure A',\n",
       " u'105 - U.S. Senator',\n",
       " u'100 - President and Vice Presid',\n",
       " u'255 - State Proposition 63',\n",
       " u'195 - State Proposition 51',\n",
       " u'170 - Superior Court Judge, Sea',\n",
       " u'125 - State Senate, District 11',\n",
       " u'230 - State Proposition 58',\n",
       " u'175 - Member, Board of Educatio',\n",
       " u'245 - State Proposition 61',\n",
       " u'335 - Local Measure L',\n",
       " u'120 - U.S. Representative, Dist',\n",
       " u'400 - District Measure RR',\n",
       " u'235 - State Proposition 59',\n",
       " u'360 - Local Measure Q',\n",
       " u'350 - Local Measure O',\n",
       " u'200 - State Proposition 52',\n",
       " u'320 - Local Measure I',\n",
       " u'135 - State Assembly, District ',\n",
       " u'130 - State Assembly, District ',\n",
       " u'185 - BART Director, District 7',\n",
       " u'220 - State Proposition 56',\n",
       " u'110 - U.S. Representative, Dist',\n",
       " u'275 - State Proposition 67',\n",
       " u'205 - State Proposition 53',\n",
       " u'295 - Local Measure D',\n",
       " u'165 - Board of Supervisors, Dis',\n",
       " u'250 - State Proposition 62',\n",
       " u'380 - Local Measure U',\n",
       " u'145 - Board of Supervisors, Dis',\n",
       " u'345 - Local Measure N',\n",
       " u'150 - Board of Supervisors, Dis',\n",
       " u'305 - Local Measure F',\n",
       " u'370 - Local Measure S',\n",
       " u'260 - State Proposition 64',\n",
       " u'355 - Local Measure P',\n",
       " u'395 - Local Measure X',\n",
       " u'285 - School Measure B',\n",
       " u'300 - Local Measure E',\n",
       " u'375 - Local Measure T',\n",
       " u'290 - Local Measure C',\n",
       " u'385 - Local Measure V',\n",
       " u'115 - U.S. Representative, Dist',\n",
       " u'310 - Local Measure G',\n",
       " u'325 - Local Measure J',\n",
       " u'140 - Board of Supervisors, Dis',\n",
       " u'270 - State Proposition 66',\n",
       " u'365 - Local Measure R',\n",
       " u'390 - Local Measure W',\n",
       " u'160 - Board of Supervisors, Dis',\n",
       " u'315 - Local Measure H',\n",
       " u'Contents']"
      ]
     },
     "execution_count": 4,
     "metadata": {},
     "output_type": "execute_result"
    }
   ],
   "source": [
    "dfs.keys()"
   ]
  },
  {
   "cell_type": "code",
   "execution_count": 5,
   "metadata": {
    "collapsed": false
   },
   "outputs": [
    {
     "data": {
      "text/html": [
       "<div>\n",
       "<table border=\"1\" class=\"dataframe\">\n",
       "  <thead>\n",
       "    <tr style=\"text-align: right;\">\n",
       "      <th></th>\n",
       "      <th>Table of Contents - Worksheets</th>\n",
       "      <th>Unnamed: 1</th>\n",
       "    </tr>\n",
       "  </thead>\n",
       "  <tbody>\n",
       "    <tr>\n",
       "      <th>0</th>\n",
       "      <td>NaN</td>\n",
       "      <td>NaN</td>\n",
       "    </tr>\n",
       "    <tr>\n",
       "      <th>1</th>\n",
       "      <td>100.0</td>\n",
       "      <td>President and Vice President</td>\n",
       "    </tr>\n",
       "    <tr>\n",
       "      <th>2</th>\n",
       "      <td>105.0</td>\n",
       "      <td>U.S. Senator</td>\n",
       "    </tr>\n",
       "    <tr>\n",
       "      <th>3</th>\n",
       "      <td>110.0</td>\n",
       "      <td>U.S. Representative, District 12</td>\n",
       "    </tr>\n",
       "    <tr>\n",
       "      <th>4</th>\n",
       "      <td>115.0</td>\n",
       "      <td>U.S. Representative, District 13</td>\n",
       "    </tr>\n",
       "  </tbody>\n",
       "</table>\n",
       "</div>"
      ],
      "text/plain": [
       "   Table of Contents - Worksheets                        Unnamed: 1\n",
       "0                             NaN                               NaN\n",
       "1                           100.0      President and Vice President\n",
       "2                           105.0                      U.S. Senator\n",
       "3                           110.0  U.S. Representative, District 12\n",
       "4                           115.0  U.S. Representative, District 13"
      ]
     },
     "execution_count": 5,
     "metadata": {},
     "output_type": "execute_result"
    }
   ],
   "source": [
    "dfs['Contents'].head()"
   ]
  },
  {
   "cell_type": "code",
   "execution_count": 6,
   "metadata": {
    "collapsed": false
   },
   "outputs": [],
   "source": [
    "# Since the sheet names get cut off, we can fix them using the Contents tab\n",
    "contents = dfs['Contents'].copy()\n",
    "contents.columns = ['key', 'name']\n",
    "contents = contents.iloc[1:]\n",
    "contents['key'] = contents['key'].astype(int)\n",
    "contents = contents.set_index('key').to_dict(orient='index')"
   ]
  },
  {
   "cell_type": "code",
   "execution_count": 7,
   "metadata": {
    "collapsed": false,
    "scrolled": true
   },
   "outputs": [],
   "source": [
    "dfs_fixed_names = {}\n",
    "for cut_name in dfs:\n",
    "    if cut_name == 'Contents':\n",
    "        continue\n",
    "    key = int(cut_name[:3])\n",
    "    if key in contents:\n",
    "        prefix = cut_name[:6]\n",
    "        postfix = contents[key]['name']\n",
    "        dfs_fixed_names[prefix + postfix] = dfs[cut_name]"
   ]
  },
  {
   "cell_type": "code",
   "execution_count": 8,
   "metadata": {
    "collapsed": false,
    "scrolled": true
   },
   "outputs": [
    {
     "name": "stdout",
     "output_type": "stream",
     "text": [
      "265 - State Proposition 65\n",
      "215 - State Proposition 55\n",
      "225 - State Proposition 57\n",
      "190 - BART Director, District 9\n",
      "180 - Member, Community College Board\n",
      "340 - Local Measure M\n",
      "210 - State Proposition 54\n",
      "330 - Local Measure K\n",
      "250 - State Proposition 62\n",
      "310 - Local Measure G\n",
      "175 - Member, Board of Education\n",
      "170 - Superior Court Judge, Seat 7\n",
      "240 - State Proposition 60\n",
      "280 - School Measure A\n",
      "205 - State Proposition 53\n",
      "255 - State Proposition 63\n",
      "195 - State Proposition 51\n",
      "100 - President and Vice President\n",
      "125 - State Senate, District 11\n",
      "230 - State Proposition 58\n",
      "400 - District Measure RR\n",
      "335 - Local Measure L\n",
      "245 - State Proposition 61\n",
      "235 - State Proposition 59\n",
      "360 - Local Measure Q\n",
      "350 - Local Measure O\n",
      "200 - State Proposition 52\n",
      "320 - Local Measure I\n",
      "185 - BART Director, District 7\n",
      "220 - State Proposition 56\n",
      "115 - U.S. Representative, District 13\n",
      "130 - State Assembly, District 17\n",
      "135 - State Assembly, District 19\n",
      "275 - State Proposition 67\n",
      "105 - U.S. Senator\n",
      "145 - Board of Supervisors, District 3\n",
      "295 - Local Measure D\n",
      "155 - Board of Supervisors, District 7\n",
      "345 - Local Measure N\n",
      "140 - Board of Supervisors, District 1\n",
      "305 - Local Measure F\n",
      "370 - Local Measure S\n",
      "260 - State Proposition 64\n",
      "380 - Local Measure U\n",
      "390 - Local Measure W\n",
      "355 - Local Measure P\n",
      "385 - Local Measure V\n",
      "285 - School Measure B\n",
      "150 - Board of Supervisors, District 5\n",
      "300 - Local Measure E\n",
      "375 - Local Measure T\n",
      "290 - Local Measure C\n",
      "110 - U.S. Representative, District 12\n",
      "120 - U.S. Representative, District 14\n",
      "325 - Local Measure J\n",
      "395 - Local Measure X\n",
      "270 - State Proposition 66\n",
      "365 - Local Measure R\n",
      "160 - Board of Supervisors, District 9\n",
      "165 - Board of Supervisors, District 11\n",
      "315 - Local Measure H\n"
     ]
    }
   ],
   "source": [
    "for name, df in dfs_fixed_names.items():\n",
    "    print(name)\n",
    "    if name == 'Contents':\n",
    "        continue\n",
    "    df.columns = [''.join([y for y in x.replace('(%)', 'Percent').replace(' ', '_') if y.isalnum() or y == '_'])\n",
    "                  for x in df.columns]\n",
    "    df = df[df['PrecinctName'].apply(lambda x: str(x).startswith('Pct '))]\n",
    "    df.to_csv('SF_2016_vote/{}.txt'.format(name), encoding='utf-8', index=False)"
   ]
  },
  {
   "cell_type": "markdown",
   "metadata": {},
   "source": [
    "### Create geodatabase from CSVs"
   ]
  },
  {
   "cell_type": "code",
   "execution_count": 30,
   "metadata": {
    "collapsed": false
   },
   "outputs": [
    {
     "data": {
      "text/plain": [
       "<Result 'C:\\\\Users\\\\Charles\\\\Documents\\\\ArcGIS\\\\san_francisco\\\\san_francisco_vote_2016.gdb\\\\san_francisco_vote_2016.gdb'>"
      ]
     },
     "execution_count": 30,
     "metadata": {},
     "output_type": "execute_result"
    }
   ],
   "source": [
    "if OVERWRITE:\n",
    "    arcpy.Delete_management('san_francisco_vote_2016.gdb')\n",
    "arcpy.CreateFileGDB_management('.', 'san_francisco_vote_2016.gdb')\n",
    "arcpy.TableToGeodatabase_conversion(\n",
    "    ['SF_2016_vote/{}.txt'.format(x) for x in dfs_fixed_names.keys()],\n",
    "    'san_francisco_vote_2016.gdb')"
   ]
  },
  {
   "cell_type": "markdown",
   "metadata": {},
   "source": [
    "### Clean field names and types"
   ]
  },
  {
   "cell_type": "code",
   "execution_count": 32,
   "metadata": {
    "collapsed": false
   },
   "outputs": [
    {
     "name": "stdout",
     "output_type": "stream",
     "text": [
      "T105___U_S__Senator complete\n",
      "T110___U_S__Representative__District_12 complete\n",
      "T115___U_S__Representative__District_13 complete\n",
      "T120___U_S__Representative__District_14 complete\n",
      "T125___State_Senate__District_11 complete\n",
      "T130___State_Assembly__District_17 complete\n",
      "T135___State_Assembly__District_19 complete\n",
      "T140___Board_of_Supervisors__District_1 complete\n",
      "T145___Board_of_Supervisors__District_3 complete\n",
      "T150___Board_of_Supervisors__District_5 complete\n",
      "T155___Board_of_Supervisors__District_7 complete\n",
      "T160___Board_of_Supervisors__District_9 complete\n",
      "T165___Board_of_Supervisors__District_11 complete\n",
      "T170___Superior_Court_Judge__Seat_7 complete\n",
      "T175___Member__Board_of_Education complete\n",
      "T180___Member__Community_College_Board complete\n",
      "T185___BART_Director__District_7 complete\n",
      "T190___BART_Director__District_9 complete\n",
      "T195___State_Proposition_51 complete\n",
      "T200___State_Proposition_52 complete\n",
      "T205___State_Proposition_53 complete\n",
      "T210___State_Proposition_54 complete\n",
      "T215___State_Proposition_55 complete\n",
      "T220___State_Proposition_56 complete\n",
      "T225___State_Proposition_57 complete\n",
      "T230___State_Proposition_58 complete\n",
      "T235___State_Proposition_59 complete\n",
      "T240___State_Proposition_60 complete\n",
      "T245___State_Proposition_61 complete\n",
      "T250___State_Proposition_62 complete\n",
      "T255___State_Proposition_63 complete\n",
      "T260___State_Proposition_64 complete\n",
      "T265___State_Proposition_65 complete\n",
      "T270___State_Proposition_66 complete\n",
      "T275___State_Proposition_67 complete\n",
      "T280___School_Measure_A complete\n",
      "T285___School_Measure_B complete\n",
      "T290___Local_Measure_C complete\n",
      "T295___Local_Measure_D complete\n",
      "T300___Local_Measure_E complete\n",
      "T305___Local_Measure_F complete\n",
      "T310___Local_Measure_G complete\n",
      "T315___Local_Measure_H complete\n",
      "T320___Local_Measure_I complete\n",
      "T325___Local_Measure_J complete\n",
      "T330___Local_Measure_K complete\n",
      "T335___Local_Measure_L complete\n",
      "T340___Local_Measure_M complete\n",
      "T345___Local_Measure_N complete\n",
      "T350___Local_Measure_O complete\n",
      "T355___Local_Measure_P complete\n",
      "T360___Local_Measure_Q complete\n",
      "T365___Local_Measure_R complete\n",
      "T370___Local_Measure_S complete\n",
      "T375___Local_Measure_T complete\n",
      "T380___Local_Measure_U complete\n",
      "T385___Local_Measure_V complete\n",
      "T390___Local_Measure_W complete\n",
      "T395___Local_Measure_X complete\n",
      "T400___District_Measure_RR complete\n"
     ]
    }
   ],
   "source": [
    "arcpy.env.workspace = 'C:\\Users\\Charles\\Documents\\ArcGIS\\san_francisco\\san_francisco_vote_2016.gdb'\n",
    "table_names = arcpy.ListTables()\n",
    "\n",
    "NO_TOUCH = ['OBJECTID', 'PrecinctName', 'ReportingType', 'PrecinctId']\n",
    "FLOAT = ['Turnout_Percent']\n",
    "\n",
    "for df_name, df in sorted(dfs_fixed_names.items(), key=lambda x: x[0]):\n",
    "    if df_name == 'Contents':\n",
    "        continue\n",
    "    table_name = [x for x in table_names if x[1:4] == df_name[:3]][0]\n",
    "    full_field_names = df.columns.values\n",
    "    cut_fields = arcpy.ListFields(table_name)\n",
    "    for ix, field in enumerate(cut_fields):\n",
    "        if field.name not in NO_TOUCH:  # We know that all of the no touch columns have their full names, too, so this is fine\n",
    "            original_name = field.name\n",
    "            temp_name = field.name[:5] + '_temp'\n",
    "            if original_name in full_field_names:\n",
    "                full_name = original_name\n",
    "            else:\n",
    "                full_name = full_field_names[ix-1]  # -1 is for OBJECTID\n",
    "            arcpy.AddField_management(table_name, temp_name, 'FLOAT' if full_name in FLOAT else 'LONG')\n",
    "            arcpy.CalculateField_management(table_name, temp_name, u'!{}!'.format(original_name), \"PYTHON_9.3\")\n",
    "            arcpy.DeleteField_management(table_name, original_name)\n",
    "            arcpy.AlterField_management(table_name, temp_name, full_name[:31])  # Two birds one stone, also 31 is max length\n",
    "    print('{} complete'.format(table_name))\n",
    "    "
   ]
  },
  {
   "cell_type": "code",
   "execution_count": null,
   "metadata": {
    "collapsed": true
   },
   "outputs": [],
   "source": []
  }
 ],
 "metadata": {
  "anaconda-cloud": {},
  "kernelspec": {
   "display_name": "Python [conda root]",
   "language": "python",
   "name": "conda-root-py"
  },
  "language_info": {
   "codemirror_mode": {
    "name": "ipython",
    "version": 2
   },
   "file_extension": ".py",
   "mimetype": "text/x-python",
   "name": "python",
   "nbconvert_exporter": "python",
   "pygments_lexer": "ipython2",
   "version": "2.7.12"
  }
 },
 "nbformat": 4,
 "nbformat_minor": 0
}
